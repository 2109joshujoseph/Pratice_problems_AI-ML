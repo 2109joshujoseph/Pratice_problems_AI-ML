{
  "nbformat": 4,
  "nbformat_minor": 0,
  "metadata": {
    "colab": {
      "provenance": [],
      "gpuType": "T4"
    },
    "kernelspec": {
      "name": "python3",
      "display_name": "Python 3"
    },
    "language_info": {
      "name": "python"
    },
    "accelerator": "GPU"
  },
  "cells": [
    {
      "cell_type": "markdown",
      "source": [
        "#Importing Libraries"
      ],
      "metadata": {
        "id": "AE8gBOfB4tLv"
      }
    },
    {
      "cell_type": "code",
      "execution_count": 3,
      "metadata": {
        "colab": {
          "base_uri": "https://localhost:8080/"
        },
        "id": "mC5ZOzYy4nNu",
        "outputId": "4f279182-be6a-4467-82ea-0658d002517d"
      },
      "outputs": [
        {
          "output_type": "stream",
          "name": "stderr",
          "text": [
            "[nltk_data] Downloading package punkt_tab to /root/nltk_data...\n",
            "[nltk_data]   Unzipping tokenizers/punkt_tab.zip.\n",
            "[nltk_data] Downloading package stopwords to /root/nltk_data...\n",
            "[nltk_data]   Unzipping corpora/stopwords.zip.\n",
            "[nltk_data] Downloading package wordnet to /root/nltk_data...\n"
          ]
        }
      ],
      "source": [
        "import numpy as np\n",
        "import pandas as pd\n",
        "import matplotlib.pyplot as plt\n",
        "\n",
        "import string\n",
        "import nltk\n",
        "nltk.download('punkt_tab')\n",
        "nltk.download('stopwords')\n",
        "\n",
        "nltk.download('wordnet')\n",
        "\n",
        "from sklearn.feature_extraction.text import CountVectorizer,TfidfVectorizer\n",
        "from sklearn.model_selection import train_test_split\n",
        "from sklearn.metrics import accuracy_score\n",
        "\n",
        "\n",
        "from gensim.utils import simple_preprocess\n",
        "from gensim.models import Word2Vec\n",
        "\n",
        "from sklearn.ensemble import RandomForestClassifier"
      ]
    },
    {
      "cell_type": "markdown",
      "source": [
        "# Importing Dataset"
      ],
      "metadata": {
        "id": "UGTyBjXZ65mU"
      }
    },
    {
      "cell_type": "code",
      "source": [
        "data = pd.read_csv('/content/tweets.csv',index_col='id')\n",
        "print(data)"
      ],
      "metadata": {
        "colab": {
          "base_uri": "https://localhost:8080/"
        },
        "id": "_I48GhNz4seO",
        "outputId": "970e6edd-d17c-43a7-afbd-df262fbae2d1"
      },
      "execution_count": 4,
      "outputs": [
        {
          "output_type": "stream",
          "name": "stdout",
          "text": [
            "      label                                              tweet\n",
            "id                                                            \n",
            "1         0  #fingerprint #Pregnancy Test https://goo.gl/h1...\n",
            "2         0  Finally a transparant silicon case ^^ Thanks t...\n",
            "3         0  We love this! Would you go? #talk #makememorie...\n",
            "4         0  I'm wired I know I'm George I was made that wa...\n",
            "5         1  What amazing service! Apple won't even talk to...\n",
            "...     ...                                                ...\n",
            "7916      0  Live out loud #lol #liveoutloud #selfie #smile...\n",
            "7917      0  We would like to wish you an amazing day! Make...\n",
            "7918      0  Helping my lovely 90 year old neighbor with he...\n",
            "7919      0  Finally got my #smart #pocket #wifi stay conne...\n",
            "7920      0  Apple Barcelona!!! #Apple #Store #BCN #Barcelo...\n",
            "\n",
            "[7920 rows x 2 columns]\n"
          ]
        }
      ]
    },
    {
      "cell_type": "code",
      "source": [
        "pd.set_option('display.max_colwidth', None)\n",
        "\n",
        "data.head()"
      ],
      "metadata": {
        "colab": {
          "base_uri": "https://localhost:8080/",
          "height": 290
        },
        "id": "zzt_I-yG7QzP",
        "outputId": "4e652db5-d65b-4ffc-ea39-d7c4caab9748"
      },
      "execution_count": 5,
      "outputs": [
        {
          "output_type": "execute_result",
          "data": {
            "text/plain": [
              "    label  \\\n",
              "id          \n",
              "1       0   \n",
              "2       0   \n",
              "3       0   \n",
              "4       0   \n",
              "5       1   \n",
              "\n",
              "                                                                                                                                  tweet  \n",
              "id                                                                                                                                       \n",
              "1      #fingerprint #Pregnancy Test https://goo.gl/h1MfQV #android #apps #beautiful #cute #health #igers #iphoneonly #iphonesia #iphone  \n",
              "2   Finally a transparant silicon case ^^ Thanks to my uncle :) #yay #Sony #Xperia #S #sonyexperias… http://instagram.com/p/YGEt5JC6JM/  \n",
              "3           We love this! Would you go? #talk #makememories #unplug #relax #iphone #smartphone #wifi #connect... http://fb.me/6N3LsUpCu  \n",
              "4                      I'm wired I know I'm George I was made that way ;) #iphone #cute #daventry #home http://instagr.am/p/Li_5_ujS4k/  \n",
              "5          What amazing service! Apple won't even talk to me about a question I have unless I pay them $19.95 for their stupid support!  "
            ],
            "text/html": [
              "\n",
              "  <div id=\"df-5d4e903f-5c18-4e72-95b3-248422452332\" class=\"colab-df-container\">\n",
              "    <div>\n",
              "<style scoped>\n",
              "    .dataframe tbody tr th:only-of-type {\n",
              "        vertical-align: middle;\n",
              "    }\n",
              "\n",
              "    .dataframe tbody tr th {\n",
              "        vertical-align: top;\n",
              "    }\n",
              "\n",
              "    .dataframe thead th {\n",
              "        text-align: right;\n",
              "    }\n",
              "</style>\n",
              "<table border=\"1\" class=\"dataframe\">\n",
              "  <thead>\n",
              "    <tr style=\"text-align: right;\">\n",
              "      <th></th>\n",
              "      <th>label</th>\n",
              "      <th>tweet</th>\n",
              "    </tr>\n",
              "    <tr>\n",
              "      <th>id</th>\n",
              "      <th></th>\n",
              "      <th></th>\n",
              "    </tr>\n",
              "  </thead>\n",
              "  <tbody>\n",
              "    <tr>\n",
              "      <th>1</th>\n",
              "      <td>0</td>\n",
              "      <td>#fingerprint #Pregnancy Test https://goo.gl/h1MfQV #android #apps #beautiful #cute #health #igers #iphoneonly #iphonesia #iphone</td>\n",
              "    </tr>\n",
              "    <tr>\n",
              "      <th>2</th>\n",
              "      <td>0</td>\n",
              "      <td>Finally a transparant silicon case ^^ Thanks to my uncle :) #yay #Sony #Xperia #S #sonyexperias… http://instagram.com/p/YGEt5JC6JM/</td>\n",
              "    </tr>\n",
              "    <tr>\n",
              "      <th>3</th>\n",
              "      <td>0</td>\n",
              "      <td>We love this! Would you go? #talk #makememories #unplug #relax #iphone #smartphone #wifi #connect... http://fb.me/6N3LsUpCu</td>\n",
              "    </tr>\n",
              "    <tr>\n",
              "      <th>4</th>\n",
              "      <td>0</td>\n",
              "      <td>I'm wired I know I'm George I was made that way ;) #iphone #cute #daventry #home http://instagr.am/p/Li_5_ujS4k/</td>\n",
              "    </tr>\n",
              "    <tr>\n",
              "      <th>5</th>\n",
              "      <td>1</td>\n",
              "      <td>What amazing service! Apple won't even talk to me about a question I have unless I pay them $19.95 for their stupid support!</td>\n",
              "    </tr>\n",
              "  </tbody>\n",
              "</table>\n",
              "</div>\n",
              "    <div class=\"colab-df-buttons\">\n",
              "\n",
              "  <div class=\"colab-df-container\">\n",
              "    <button class=\"colab-df-convert\" onclick=\"convertToInteractive('df-5d4e903f-5c18-4e72-95b3-248422452332')\"\n",
              "            title=\"Convert this dataframe to an interactive table.\"\n",
              "            style=\"display:none;\">\n",
              "\n",
              "  <svg xmlns=\"http://www.w3.org/2000/svg\" height=\"24px\" viewBox=\"0 -960 960 960\">\n",
              "    <path d=\"M120-120v-720h720v720H120Zm60-500h600v-160H180v160Zm220 220h160v-160H400v160Zm0 220h160v-160H400v160ZM180-400h160v-160H180v160Zm440 0h160v-160H620v160ZM180-180h160v-160H180v160Zm440 0h160v-160H620v160Z\"/>\n",
              "  </svg>\n",
              "    </button>\n",
              "\n",
              "  <style>\n",
              "    .colab-df-container {\n",
              "      display:flex;\n",
              "      gap: 12px;\n",
              "    }\n",
              "\n",
              "    .colab-df-convert {\n",
              "      background-color: #E8F0FE;\n",
              "      border: none;\n",
              "      border-radius: 50%;\n",
              "      cursor: pointer;\n",
              "      display: none;\n",
              "      fill: #1967D2;\n",
              "      height: 32px;\n",
              "      padding: 0 0 0 0;\n",
              "      width: 32px;\n",
              "    }\n",
              "\n",
              "    .colab-df-convert:hover {\n",
              "      background-color: #E2EBFA;\n",
              "      box-shadow: 0px 1px 2px rgba(60, 64, 67, 0.3), 0px 1px 3px 1px rgba(60, 64, 67, 0.15);\n",
              "      fill: #174EA6;\n",
              "    }\n",
              "\n",
              "    .colab-df-buttons div {\n",
              "      margin-bottom: 4px;\n",
              "    }\n",
              "\n",
              "    [theme=dark] .colab-df-convert {\n",
              "      background-color: #3B4455;\n",
              "      fill: #D2E3FC;\n",
              "    }\n",
              "\n",
              "    [theme=dark] .colab-df-convert:hover {\n",
              "      background-color: #434B5C;\n",
              "      box-shadow: 0px 1px 3px 1px rgba(0, 0, 0, 0.15);\n",
              "      filter: drop-shadow(0px 1px 2px rgba(0, 0, 0, 0.3));\n",
              "      fill: #FFFFFF;\n",
              "    }\n",
              "  </style>\n",
              "\n",
              "    <script>\n",
              "      const buttonEl =\n",
              "        document.querySelector('#df-5d4e903f-5c18-4e72-95b3-248422452332 button.colab-df-convert');\n",
              "      buttonEl.style.display =\n",
              "        google.colab.kernel.accessAllowed ? 'block' : 'none';\n",
              "\n",
              "      async function convertToInteractive(key) {\n",
              "        const element = document.querySelector('#df-5d4e903f-5c18-4e72-95b3-248422452332');\n",
              "        const dataTable =\n",
              "          await google.colab.kernel.invokeFunction('convertToInteractive',\n",
              "                                                    [key], {});\n",
              "        if (!dataTable) return;\n",
              "\n",
              "        const docLinkHtml = 'Like what you see? Visit the ' +\n",
              "          '<a target=\"_blank\" href=https://colab.research.google.com/notebooks/data_table.ipynb>data table notebook</a>'\n",
              "          + ' to learn more about interactive tables.';\n",
              "        element.innerHTML = '';\n",
              "        dataTable['output_type'] = 'display_data';\n",
              "        await google.colab.output.renderOutput(dataTable, element);\n",
              "        const docLink = document.createElement('div');\n",
              "        docLink.innerHTML = docLinkHtml;\n",
              "        element.appendChild(docLink);\n",
              "      }\n",
              "    </script>\n",
              "  </div>\n",
              "\n",
              "\n",
              "<div id=\"df-2a6faeee-7491-4604-b1ce-89492a83431b\">\n",
              "  <button class=\"colab-df-quickchart\" onclick=\"quickchart('df-2a6faeee-7491-4604-b1ce-89492a83431b')\"\n",
              "            title=\"Suggest charts\"\n",
              "            style=\"display:none;\">\n",
              "\n",
              "<svg xmlns=\"http://www.w3.org/2000/svg\" height=\"24px\"viewBox=\"0 0 24 24\"\n",
              "     width=\"24px\">\n",
              "    <g>\n",
              "        <path d=\"M19 3H5c-1.1 0-2 .9-2 2v14c0 1.1.9 2 2 2h14c1.1 0 2-.9 2-2V5c0-1.1-.9-2-2-2zM9 17H7v-7h2v7zm4 0h-2V7h2v10zm4 0h-2v-4h2v4z\"/>\n",
              "    </g>\n",
              "</svg>\n",
              "  </button>\n",
              "\n",
              "<style>\n",
              "  .colab-df-quickchart {\n",
              "      --bg-color: #E8F0FE;\n",
              "      --fill-color: #1967D2;\n",
              "      --hover-bg-color: #E2EBFA;\n",
              "      --hover-fill-color: #174EA6;\n",
              "      --disabled-fill-color: #AAA;\n",
              "      --disabled-bg-color: #DDD;\n",
              "  }\n",
              "\n",
              "  [theme=dark] .colab-df-quickchart {\n",
              "      --bg-color: #3B4455;\n",
              "      --fill-color: #D2E3FC;\n",
              "      --hover-bg-color: #434B5C;\n",
              "      --hover-fill-color: #FFFFFF;\n",
              "      --disabled-bg-color: #3B4455;\n",
              "      --disabled-fill-color: #666;\n",
              "  }\n",
              "\n",
              "  .colab-df-quickchart {\n",
              "    background-color: var(--bg-color);\n",
              "    border: none;\n",
              "    border-radius: 50%;\n",
              "    cursor: pointer;\n",
              "    display: none;\n",
              "    fill: var(--fill-color);\n",
              "    height: 32px;\n",
              "    padding: 0;\n",
              "    width: 32px;\n",
              "  }\n",
              "\n",
              "  .colab-df-quickchart:hover {\n",
              "    background-color: var(--hover-bg-color);\n",
              "    box-shadow: 0 1px 2px rgba(60, 64, 67, 0.3), 0 1px 3px 1px rgba(60, 64, 67, 0.15);\n",
              "    fill: var(--button-hover-fill-color);\n",
              "  }\n",
              "\n",
              "  .colab-df-quickchart-complete:disabled,\n",
              "  .colab-df-quickchart-complete:disabled:hover {\n",
              "    background-color: var(--disabled-bg-color);\n",
              "    fill: var(--disabled-fill-color);\n",
              "    box-shadow: none;\n",
              "  }\n",
              "\n",
              "  .colab-df-spinner {\n",
              "    border: 2px solid var(--fill-color);\n",
              "    border-color: transparent;\n",
              "    border-bottom-color: var(--fill-color);\n",
              "    animation:\n",
              "      spin 1s steps(1) infinite;\n",
              "  }\n",
              "\n",
              "  @keyframes spin {\n",
              "    0% {\n",
              "      border-color: transparent;\n",
              "      border-bottom-color: var(--fill-color);\n",
              "      border-left-color: var(--fill-color);\n",
              "    }\n",
              "    20% {\n",
              "      border-color: transparent;\n",
              "      border-left-color: var(--fill-color);\n",
              "      border-top-color: var(--fill-color);\n",
              "    }\n",
              "    30% {\n",
              "      border-color: transparent;\n",
              "      border-left-color: var(--fill-color);\n",
              "      border-top-color: var(--fill-color);\n",
              "      border-right-color: var(--fill-color);\n",
              "    }\n",
              "    40% {\n",
              "      border-color: transparent;\n",
              "      border-right-color: var(--fill-color);\n",
              "      border-top-color: var(--fill-color);\n",
              "    }\n",
              "    60% {\n",
              "      border-color: transparent;\n",
              "      border-right-color: var(--fill-color);\n",
              "    }\n",
              "    80% {\n",
              "      border-color: transparent;\n",
              "      border-right-color: var(--fill-color);\n",
              "      border-bottom-color: var(--fill-color);\n",
              "    }\n",
              "    90% {\n",
              "      border-color: transparent;\n",
              "      border-bottom-color: var(--fill-color);\n",
              "    }\n",
              "  }\n",
              "</style>\n",
              "\n",
              "  <script>\n",
              "    async function quickchart(key) {\n",
              "      const quickchartButtonEl =\n",
              "        document.querySelector('#' + key + ' button');\n",
              "      quickchartButtonEl.disabled = true;  // To prevent multiple clicks.\n",
              "      quickchartButtonEl.classList.add('colab-df-spinner');\n",
              "      try {\n",
              "        const charts = await google.colab.kernel.invokeFunction(\n",
              "            'suggestCharts', [key], {});\n",
              "      } catch (error) {\n",
              "        console.error('Error during call to suggestCharts:', error);\n",
              "      }\n",
              "      quickchartButtonEl.classList.remove('colab-df-spinner');\n",
              "      quickchartButtonEl.classList.add('colab-df-quickchart-complete');\n",
              "    }\n",
              "    (() => {\n",
              "      let quickchartButtonEl =\n",
              "        document.querySelector('#df-2a6faeee-7491-4604-b1ce-89492a83431b button');\n",
              "      quickchartButtonEl.style.display =\n",
              "        google.colab.kernel.accessAllowed ? 'block' : 'none';\n",
              "    })();\n",
              "  </script>\n",
              "</div>\n",
              "\n",
              "    </div>\n",
              "  </div>\n"
            ],
            "application/vnd.google.colaboratory.intrinsic+json": {
              "type": "dataframe",
              "variable_name": "data",
              "summary": "{\n  \"name\": \"data\",\n  \"rows\": 7920,\n  \"fields\": [\n    {\n      \"column\": \"id\",\n      \"properties\": {\n        \"dtype\": \"number\",\n        \"std\": 2286,\n        \"min\": 1,\n        \"max\": 7920,\n        \"num_unique_values\": 7920,\n        \"samples\": [\n          4897,\n          7540,\n          1678\n        ],\n        \"semantic_type\": \"\",\n        \"description\": \"\"\n      }\n    },\n    {\n      \"column\": \"label\",\n      \"properties\": {\n        \"dtype\": \"number\",\n        \"std\": 0,\n        \"min\": 0,\n        \"max\": 1,\n        \"num_unique_values\": 2,\n        \"samples\": [\n          1,\n          0\n        ],\n        \"semantic_type\": \"\",\n        \"description\": \"\"\n      }\n    },\n    {\n      \"column\": \"tweet\",\n      \"properties\": {\n        \"dtype\": \"string\",\n        \"num_unique_values\": 7918,\n        \"samples\": [\n          \"My face as dad gave me cards worth \\u00a320, 000.00 #gay #shopping #boy #macbook #apple #blonde #pickofthe http://instagr.am/p/Uo5Ue7H7A8/\",\n          \"@skullcandy your product is brutal, 1 headphone always stops working. Get it together #Sony ftw\"\n        ],\n        \"semantic_type\": \"\",\n        \"description\": \"\"\n      }\n    }\n  ]\n}"
            }
          },
          "metadata": {},
          "execution_count": 5
        }
      ]
    },
    {
      "cell_type": "markdown",
      "metadata": {
        "id": "O-bdmXOIoBVI"
      },
      "source": [
        "# Creating  Functions for text processing"
      ]
    },
    {
      "cell_type": "code",
      "execution_count": 6,
      "metadata": {
        "id": "oYvBCpVXoBVI"
      },
      "outputs": [],
      "source": [
        "# Removing punctuations\n",
        "\n",
        "def remove_punctuations(document):\n",
        "    '''Function to remove punctuations in a document.\n",
        "    (here document corresponds to a single review)'''\n",
        "\n",
        "    punc_free = []\n",
        "    for letter in document:\n",
        "        if letter not in string.punctuation:\n",
        "            punc_free.append(letter)\n",
        "    return ''.join(punc_free)  #creating  the document without punctuations"
      ]
    },
    {
      "cell_type": "code",
      "execution_count": 7,
      "metadata": {
        "id": "nRwD9P6WoBVI"
      },
      "outputs": [],
      "source": [
        "# Tokenization\n",
        "\n",
        "def tokenise(document):\n",
        "    ''' Converts a document/review to a list of words'''\n",
        "    tokens = nltk.word_tokenize(document)\n",
        "\n",
        "    return tokens  #returns a list of words"
      ]
    },
    {
      "cell_type": "code",
      "execution_count": 8,
      "metadata": {
        "id": "cWfGeArGoBVJ"
      },
      "outputs": [],
      "source": [
        "# Removal of stopwords\n",
        "\n",
        "stopwords = nltk.corpus.stopwords.words('english')\n",
        "\n",
        "def remove_stopwords(words_list):\n",
        "    '''Function to remove the stop words from a list of words after tokenization'''\n",
        "\n",
        "    stopword_removed = []\n",
        "    for word in words_list:\n",
        "        if word not in stopwords:\n",
        "            stopword_removed.append(word)\n",
        "\n",
        "    return stopword_removed #returns a list of words"
      ]
    },
    {
      "cell_type": "code",
      "execution_count": 9,
      "metadata": {
        "id": "LJxYZc4goBVJ"
      },
      "outputs": [],
      "source": [
        "# Lemmatization\n",
        "\n",
        "def lemmatizer(words_list):\n",
        "    '''Function to lemmatize a list of words'''\n",
        "    lemmatized = []\n",
        "    for word in words_list:\n",
        "        lemmatized.append(nltk.WordNetLemmatizer().lemmatize(word))\n",
        "\n",
        "    return lemmatized  #returns a list of lemmatized words\n"
      ]
    },
    {
      "cell_type": "code",
      "execution_count": 10,
      "metadata": {
        "id": "F6ZudMtloBVJ"
      },
      "outputs": [],
      "source": [
        "# Combining all the functions\n",
        "\n",
        "def text_preprocessor(corpus):\n",
        "\n",
        "    preprocessed = []\n",
        "\n",
        "    for document in corpus:\n",
        "        new_doc = remove_punctuations(document)\n",
        "        new_doc = new_doc.lower()\n",
        "        words_list = tokenise(new_doc)\n",
        "        words_list = remove_stopwords(words_list)\n",
        "        words_list = lemmatizer(words_list)\n",
        "\n",
        "        preprocessed.append(' '.join(words_list))\n",
        "\n",
        "    return preprocessed"
      ]
    },
    {
      "cell_type": "markdown",
      "metadata": {
        "id": "aiJ-_DexoBVK"
      },
      "source": [
        "# Preprocessing"
      ]
    },
    {
      "cell_type": "code",
      "execution_count": 11,
      "metadata": {
        "colab": {
          "base_uri": "https://localhost:8080/",
          "height": 147
        },
        "id": "-1GXZyzAoBVK",
        "outputId": "70da1ddb-f105-4807-817d-0d52b3d60360"
      },
      "outputs": [
        {
          "output_type": "execute_result",
          "data": {
            "text/plain": [
              "label    0\n",
              "tweet    0\n",
              "dtype: int64"
            ],
            "text/html": [
              "<div>\n",
              "<style scoped>\n",
              "    .dataframe tbody tr th:only-of-type {\n",
              "        vertical-align: middle;\n",
              "    }\n",
              "\n",
              "    .dataframe tbody tr th {\n",
              "        vertical-align: top;\n",
              "    }\n",
              "\n",
              "    .dataframe thead th {\n",
              "        text-align: right;\n",
              "    }\n",
              "</style>\n",
              "<table border=\"1\" class=\"dataframe\">\n",
              "  <thead>\n",
              "    <tr style=\"text-align: right;\">\n",
              "      <th></th>\n",
              "      <th>0</th>\n",
              "    </tr>\n",
              "  </thead>\n",
              "  <tbody>\n",
              "    <tr>\n",
              "      <th>label</th>\n",
              "      <td>0</td>\n",
              "    </tr>\n",
              "    <tr>\n",
              "      <th>tweet</th>\n",
              "      <td>0</td>\n",
              "    </tr>\n",
              "  </tbody>\n",
              "</table>\n",
              "</div><br><label><b>dtype:</b> int64</label>"
            ]
          },
          "metadata": {},
          "execution_count": 11
        }
      ],
      "source": [
        "\n",
        "data.isna().sum()"
      ]
    },
    {
      "cell_type": "code",
      "execution_count": 12,
      "metadata": {
        "colab": {
          "base_uri": "https://localhost:8080/"
        },
        "id": "rIw0FJwdoBVL",
        "outputId": "36e86ed5-53b4-43fd-ef65-0a5a7e16bf0b"
      },
      "outputs": [
        {
          "output_type": "execute_result",
          "data": {
            "text/plain": [
              "(7920, 2)"
            ]
          },
          "metadata": {},
          "execution_count": 12
        }
      ],
      "source": [
        "data.shape"
      ]
    },
    {
      "cell_type": "code",
      "execution_count": 13,
      "metadata": {
        "id": "0fP6l4DmoBVL"
      },
      "outputs": [],
      "source": [
        "data['preprocessed'] = text_preprocessor(data['tweet'])"
      ]
    },
    {
      "cell_type": "code",
      "execution_count": 14,
      "metadata": {
        "colab": {
          "base_uri": "https://localhost:8080/"
        },
        "id": "hGNWutUyoBVL",
        "outputId": "c6100d56-c37a-4b32-9218-5a3aa0127c7a"
      },
      "outputs": [
        {
          "output_type": "stream",
          "name": "stdout",
          "text": [
            "      label  \\\n",
            "id            \n",
            "1         0   \n",
            "2         0   \n",
            "3         0   \n",
            "4         0   \n",
            "5         1   \n",
            "...     ...   \n",
            "7916      0   \n",
            "7917      0   \n",
            "7918      0   \n",
            "7919      0   \n",
            "7920      0   \n",
            "\n",
            "                                                                                                                                       tweet  \\\n",
            "id                                                                                                                                             \n",
            "1           #fingerprint #Pregnancy Test https://goo.gl/h1MfQV #android #apps #beautiful #cute #health #igers #iphoneonly #iphonesia #iphone   \n",
            "2        Finally a transparant silicon case ^^ Thanks to my uncle :) #yay #Sony #Xperia #S #sonyexperias… http://instagram.com/p/YGEt5JC6JM/   \n",
            "3                We love this! Would you go? #talk #makememories #unplug #relax #iphone #smartphone #wifi #connect... http://fb.me/6N3LsUpCu   \n",
            "4                           I'm wired I know I'm George I was made that way ;) #iphone #cute #daventry #home http://instagr.am/p/Li_5_ujS4k/   \n",
            "5               What amazing service! Apple won't even talk to me about a question I have unless I pay them $19.95 for their stupid support!   \n",
            "...                                                                                                                                      ...   \n",
            "7916                             Live out loud #lol #liveoutloud #selfie #smile #sony #music #headphones https://instagram.com/p/5spiNsJ_c9/   \n",
            "7917  We would like to wish you an amazing day! Make every minute count #tls #today #iphone #accessories #news #life February 23, 2017 at 0…   \n",
            "7918       Helping my lovely 90 year old neighbor with her iPad this morning has just made me realise that 'I' don't actually need an I pad!   \n",
            "7919   Finally got my #smart #pocket #wifi stay connected anytime,anywhere! #ipad and #samsung #s3 #gadget # http://instagr.am/p/U-53G_vJU8/   \n",
            "7920       Apple Barcelona!!! #Apple #Store #BCN #Barcelona #travel #iphone #selfie #fly #fun #cabincrew… http://instagram.com/p/wBApVzpCl3/   \n",
            "\n",
            "                                                                                                          preprocessed  \n",
            "id                                                                                                                      \n",
            "1     fingerprint pregnancy test httpsgooglh1mfqv android apps beautiful cute health igers iphoneonly iphonesia iphone  \n",
            "2              finally transparant silicon case thanks uncle yay sony xperia sonyexperias… httpinstagramcompyget5jc6jm  \n",
            "3                        love would go talk makememories unplug relax iphone smartphone wifi connect httpfbme6n3lsupcu  \n",
            "4                                    im wired know im george made way iphone cute daventry home httpinstagrampli5ujs4k  \n",
            "5                                         amazing service apple wont even talk question unless pay 1995 stupid support  \n",
            "...                                                                                                                ...  \n",
            "7916                           live loud lol liveoutloud selfie smile sony music headphone httpsinstagramcomp5spinsjc9  \n",
            "7917       would like wish amazing day make every minute count tl today iphone accessory news life february 23 2017 0…  \n",
            "7918                              helping lovely 90 year old neighbor ipad morning made realise dont actually need pad  \n",
            "7919        finally got smart pocket wifi stay connected anytimeanywhere ipad samsung s3 gadget httpinstagrampu53gvju8  \n",
            "7920     apple barcelona apple store bcn barcelona travel iphone selfie fly fun cabincrew… httpinstagramcompwbapvzpcl3  \n",
            "\n",
            "[7920 rows x 3 columns]\n"
          ]
        }
      ],
      "source": [
        "print(data)"
      ]
    },
    {
      "cell_type": "code",
      "source": [],
      "metadata": {
        "id": "xcguzEsg8x6h"
      },
      "execution_count": null,
      "outputs": []
    },
    {
      "cell_type": "markdown",
      "metadata": {
        "id": "a3QspCxboBVL"
      },
      "source": [
        "# Creating BOW Model"
      ]
    },
    {
      "cell_type": "code",
      "execution_count": 23,
      "metadata": {
        "id": "O4VLhmHAoBVL"
      },
      "outputs": [],
      "source": [
        "x_bow = CountVectorizer().fit_transform(data['preprocessed'])\n",
        "y = data['label']"
      ]
    },
    {
      "cell_type": "code",
      "execution_count": 24,
      "metadata": {
        "id": "PhxXzM0XoBVM"
      },
      "outputs": [],
      "source": [
        "#Train Test Split\n",
        "x_train_bow , x_test_bow, y_train, y_test = train_test_split(x_bow,y,test_size = 0.2, random_state = 30)"
      ]
    },
    {
      "cell_type": "code",
      "execution_count": 25,
      "metadata": {
        "colab": {
          "base_uri": "https://localhost:8080/",
          "height": 80
        },
        "id": "e-nN_pgWoBVM",
        "outputId": "79916bf9-ab66-427d-9e2e-98bce5f99495"
      },
      "outputs": [
        {
          "output_type": "execute_result",
          "data": {
            "text/plain": [
              "RandomForestClassifier()"
            ],
            "text/html": [
              "<style>#sk-container-id-3 {\n",
              "  /* Definition of color scheme common for light and dark mode */\n",
              "  --sklearn-color-text: #000;\n",
              "  --sklearn-color-text-muted: #666;\n",
              "  --sklearn-color-line: gray;\n",
              "  /* Definition of color scheme for unfitted estimators */\n",
              "  --sklearn-color-unfitted-level-0: #fff5e6;\n",
              "  --sklearn-color-unfitted-level-1: #f6e4d2;\n",
              "  --sklearn-color-unfitted-level-2: #ffe0b3;\n",
              "  --sklearn-color-unfitted-level-3: chocolate;\n",
              "  /* Definition of color scheme for fitted estimators */\n",
              "  --sklearn-color-fitted-level-0: #f0f8ff;\n",
              "  --sklearn-color-fitted-level-1: #d4ebff;\n",
              "  --sklearn-color-fitted-level-2: #b3dbfd;\n",
              "  --sklearn-color-fitted-level-3: cornflowerblue;\n",
              "\n",
              "  /* Specific color for light theme */\n",
              "  --sklearn-color-text-on-default-background: var(--sg-text-color, var(--theme-code-foreground, var(--jp-content-font-color1, black)));\n",
              "  --sklearn-color-background: var(--sg-background-color, var(--theme-background, var(--jp-layout-color0, white)));\n",
              "  --sklearn-color-border-box: var(--sg-text-color, var(--theme-code-foreground, var(--jp-content-font-color1, black)));\n",
              "  --sklearn-color-icon: #696969;\n",
              "\n",
              "  @media (prefers-color-scheme: dark) {\n",
              "    /* Redefinition of color scheme for dark theme */\n",
              "    --sklearn-color-text-on-default-background: var(--sg-text-color, var(--theme-code-foreground, var(--jp-content-font-color1, white)));\n",
              "    --sklearn-color-background: var(--sg-background-color, var(--theme-background, var(--jp-layout-color0, #111)));\n",
              "    --sklearn-color-border-box: var(--sg-text-color, var(--theme-code-foreground, var(--jp-content-font-color1, white)));\n",
              "    --sklearn-color-icon: #878787;\n",
              "  }\n",
              "}\n",
              "\n",
              "#sk-container-id-3 {\n",
              "  color: var(--sklearn-color-text);\n",
              "}\n",
              "\n",
              "#sk-container-id-3 pre {\n",
              "  padding: 0;\n",
              "}\n",
              "\n",
              "#sk-container-id-3 input.sk-hidden--visually {\n",
              "  border: 0;\n",
              "  clip: rect(1px 1px 1px 1px);\n",
              "  clip: rect(1px, 1px, 1px, 1px);\n",
              "  height: 1px;\n",
              "  margin: -1px;\n",
              "  overflow: hidden;\n",
              "  padding: 0;\n",
              "  position: absolute;\n",
              "  width: 1px;\n",
              "}\n",
              "\n",
              "#sk-container-id-3 div.sk-dashed-wrapped {\n",
              "  border: 1px dashed var(--sklearn-color-line);\n",
              "  margin: 0 0.4em 0.5em 0.4em;\n",
              "  box-sizing: border-box;\n",
              "  padding-bottom: 0.4em;\n",
              "  background-color: var(--sklearn-color-background);\n",
              "}\n",
              "\n",
              "#sk-container-id-3 div.sk-container {\n",
              "  /* jupyter's `normalize.less` sets `[hidden] { display: none; }`\n",
              "     but bootstrap.min.css set `[hidden] { display: none !important; }`\n",
              "     so we also need the `!important` here to be able to override the\n",
              "     default hidden behavior on the sphinx rendered scikit-learn.org.\n",
              "     See: https://github.com/scikit-learn/scikit-learn/issues/21755 */\n",
              "  display: inline-block !important;\n",
              "  position: relative;\n",
              "}\n",
              "\n",
              "#sk-container-id-3 div.sk-text-repr-fallback {\n",
              "  display: none;\n",
              "}\n",
              "\n",
              "div.sk-parallel-item,\n",
              "div.sk-serial,\n",
              "div.sk-item {\n",
              "  /* draw centered vertical line to link estimators */\n",
              "  background-image: linear-gradient(var(--sklearn-color-text-on-default-background), var(--sklearn-color-text-on-default-background));\n",
              "  background-size: 2px 100%;\n",
              "  background-repeat: no-repeat;\n",
              "  background-position: center center;\n",
              "}\n",
              "\n",
              "/* Parallel-specific style estimator block */\n",
              "\n",
              "#sk-container-id-3 div.sk-parallel-item::after {\n",
              "  content: \"\";\n",
              "  width: 100%;\n",
              "  border-bottom: 2px solid var(--sklearn-color-text-on-default-background);\n",
              "  flex-grow: 1;\n",
              "}\n",
              "\n",
              "#sk-container-id-3 div.sk-parallel {\n",
              "  display: flex;\n",
              "  align-items: stretch;\n",
              "  justify-content: center;\n",
              "  background-color: var(--sklearn-color-background);\n",
              "  position: relative;\n",
              "}\n",
              "\n",
              "#sk-container-id-3 div.sk-parallel-item {\n",
              "  display: flex;\n",
              "  flex-direction: column;\n",
              "}\n",
              "\n",
              "#sk-container-id-3 div.sk-parallel-item:first-child::after {\n",
              "  align-self: flex-end;\n",
              "  width: 50%;\n",
              "}\n",
              "\n",
              "#sk-container-id-3 div.sk-parallel-item:last-child::after {\n",
              "  align-self: flex-start;\n",
              "  width: 50%;\n",
              "}\n",
              "\n",
              "#sk-container-id-3 div.sk-parallel-item:only-child::after {\n",
              "  width: 0;\n",
              "}\n",
              "\n",
              "/* Serial-specific style estimator block */\n",
              "\n",
              "#sk-container-id-3 div.sk-serial {\n",
              "  display: flex;\n",
              "  flex-direction: column;\n",
              "  align-items: center;\n",
              "  background-color: var(--sklearn-color-background);\n",
              "  padding-right: 1em;\n",
              "  padding-left: 1em;\n",
              "}\n",
              "\n",
              "\n",
              "/* Toggleable style: style used for estimator/Pipeline/ColumnTransformer box that is\n",
              "clickable and can be expanded/collapsed.\n",
              "- Pipeline and ColumnTransformer use this feature and define the default style\n",
              "- Estimators will overwrite some part of the style using the `sk-estimator` class\n",
              "*/\n",
              "\n",
              "/* Pipeline and ColumnTransformer style (default) */\n",
              "\n",
              "#sk-container-id-3 div.sk-toggleable {\n",
              "  /* Default theme specific background. It is overwritten whether we have a\n",
              "  specific estimator or a Pipeline/ColumnTransformer */\n",
              "  background-color: var(--sklearn-color-background);\n",
              "}\n",
              "\n",
              "/* Toggleable label */\n",
              "#sk-container-id-3 label.sk-toggleable__label {\n",
              "  cursor: pointer;\n",
              "  display: flex;\n",
              "  width: 100%;\n",
              "  margin-bottom: 0;\n",
              "  padding: 0.5em;\n",
              "  box-sizing: border-box;\n",
              "  text-align: center;\n",
              "  align-items: start;\n",
              "  justify-content: space-between;\n",
              "  gap: 0.5em;\n",
              "}\n",
              "\n",
              "#sk-container-id-3 label.sk-toggleable__label .caption {\n",
              "  font-size: 0.6rem;\n",
              "  font-weight: lighter;\n",
              "  color: var(--sklearn-color-text-muted);\n",
              "}\n",
              "\n",
              "#sk-container-id-3 label.sk-toggleable__label-arrow:before {\n",
              "  /* Arrow on the left of the label */\n",
              "  content: \"▸\";\n",
              "  float: left;\n",
              "  margin-right: 0.25em;\n",
              "  color: var(--sklearn-color-icon);\n",
              "}\n",
              "\n",
              "#sk-container-id-3 label.sk-toggleable__label-arrow:hover:before {\n",
              "  color: var(--sklearn-color-text);\n",
              "}\n",
              "\n",
              "/* Toggleable content - dropdown */\n",
              "\n",
              "#sk-container-id-3 div.sk-toggleable__content {\n",
              "  max-height: 0;\n",
              "  max-width: 0;\n",
              "  overflow: hidden;\n",
              "  text-align: left;\n",
              "  /* unfitted */\n",
              "  background-color: var(--sklearn-color-unfitted-level-0);\n",
              "}\n",
              "\n",
              "#sk-container-id-3 div.sk-toggleable__content.fitted {\n",
              "  /* fitted */\n",
              "  background-color: var(--sklearn-color-fitted-level-0);\n",
              "}\n",
              "\n",
              "#sk-container-id-3 div.sk-toggleable__content pre {\n",
              "  margin: 0.2em;\n",
              "  border-radius: 0.25em;\n",
              "  color: var(--sklearn-color-text);\n",
              "  /* unfitted */\n",
              "  background-color: var(--sklearn-color-unfitted-level-0);\n",
              "}\n",
              "\n",
              "#sk-container-id-3 div.sk-toggleable__content.fitted pre {\n",
              "  /* unfitted */\n",
              "  background-color: var(--sklearn-color-fitted-level-0);\n",
              "}\n",
              "\n",
              "#sk-container-id-3 input.sk-toggleable__control:checked~div.sk-toggleable__content {\n",
              "  /* Expand drop-down */\n",
              "  max-height: 200px;\n",
              "  max-width: 100%;\n",
              "  overflow: auto;\n",
              "}\n",
              "\n",
              "#sk-container-id-3 input.sk-toggleable__control:checked~label.sk-toggleable__label-arrow:before {\n",
              "  content: \"▾\";\n",
              "}\n",
              "\n",
              "/* Pipeline/ColumnTransformer-specific style */\n",
              "\n",
              "#sk-container-id-3 div.sk-label input.sk-toggleable__control:checked~label.sk-toggleable__label {\n",
              "  color: var(--sklearn-color-text);\n",
              "  background-color: var(--sklearn-color-unfitted-level-2);\n",
              "}\n",
              "\n",
              "#sk-container-id-3 div.sk-label.fitted input.sk-toggleable__control:checked~label.sk-toggleable__label {\n",
              "  background-color: var(--sklearn-color-fitted-level-2);\n",
              "}\n",
              "\n",
              "/* Estimator-specific style */\n",
              "\n",
              "/* Colorize estimator box */\n",
              "#sk-container-id-3 div.sk-estimator input.sk-toggleable__control:checked~label.sk-toggleable__label {\n",
              "  /* unfitted */\n",
              "  background-color: var(--sklearn-color-unfitted-level-2);\n",
              "}\n",
              "\n",
              "#sk-container-id-3 div.sk-estimator.fitted input.sk-toggleable__control:checked~label.sk-toggleable__label {\n",
              "  /* fitted */\n",
              "  background-color: var(--sklearn-color-fitted-level-2);\n",
              "}\n",
              "\n",
              "#sk-container-id-3 div.sk-label label.sk-toggleable__label,\n",
              "#sk-container-id-3 div.sk-label label {\n",
              "  /* The background is the default theme color */\n",
              "  color: var(--sklearn-color-text-on-default-background);\n",
              "}\n",
              "\n",
              "/* On hover, darken the color of the background */\n",
              "#sk-container-id-3 div.sk-label:hover label.sk-toggleable__label {\n",
              "  color: var(--sklearn-color-text);\n",
              "  background-color: var(--sklearn-color-unfitted-level-2);\n",
              "}\n",
              "\n",
              "/* Label box, darken color on hover, fitted */\n",
              "#sk-container-id-3 div.sk-label.fitted:hover label.sk-toggleable__label.fitted {\n",
              "  color: var(--sklearn-color-text);\n",
              "  background-color: var(--sklearn-color-fitted-level-2);\n",
              "}\n",
              "\n",
              "/* Estimator label */\n",
              "\n",
              "#sk-container-id-3 div.sk-label label {\n",
              "  font-family: monospace;\n",
              "  font-weight: bold;\n",
              "  display: inline-block;\n",
              "  line-height: 1.2em;\n",
              "}\n",
              "\n",
              "#sk-container-id-3 div.sk-label-container {\n",
              "  text-align: center;\n",
              "}\n",
              "\n",
              "/* Estimator-specific */\n",
              "#sk-container-id-3 div.sk-estimator {\n",
              "  font-family: monospace;\n",
              "  border: 1px dotted var(--sklearn-color-border-box);\n",
              "  border-radius: 0.25em;\n",
              "  box-sizing: border-box;\n",
              "  margin-bottom: 0.5em;\n",
              "  /* unfitted */\n",
              "  background-color: var(--sklearn-color-unfitted-level-0);\n",
              "}\n",
              "\n",
              "#sk-container-id-3 div.sk-estimator.fitted {\n",
              "  /* fitted */\n",
              "  background-color: var(--sklearn-color-fitted-level-0);\n",
              "}\n",
              "\n",
              "/* on hover */\n",
              "#sk-container-id-3 div.sk-estimator:hover {\n",
              "  /* unfitted */\n",
              "  background-color: var(--sklearn-color-unfitted-level-2);\n",
              "}\n",
              "\n",
              "#sk-container-id-3 div.sk-estimator.fitted:hover {\n",
              "  /* fitted */\n",
              "  background-color: var(--sklearn-color-fitted-level-2);\n",
              "}\n",
              "\n",
              "/* Specification for estimator info (e.g. \"i\" and \"?\") */\n",
              "\n",
              "/* Common style for \"i\" and \"?\" */\n",
              "\n",
              ".sk-estimator-doc-link,\n",
              "a:link.sk-estimator-doc-link,\n",
              "a:visited.sk-estimator-doc-link {\n",
              "  float: right;\n",
              "  font-size: smaller;\n",
              "  line-height: 1em;\n",
              "  font-family: monospace;\n",
              "  background-color: var(--sklearn-color-background);\n",
              "  border-radius: 1em;\n",
              "  height: 1em;\n",
              "  width: 1em;\n",
              "  text-decoration: none !important;\n",
              "  margin-left: 0.5em;\n",
              "  text-align: center;\n",
              "  /* unfitted */\n",
              "  border: var(--sklearn-color-unfitted-level-1) 1pt solid;\n",
              "  color: var(--sklearn-color-unfitted-level-1);\n",
              "}\n",
              "\n",
              ".sk-estimator-doc-link.fitted,\n",
              "a:link.sk-estimator-doc-link.fitted,\n",
              "a:visited.sk-estimator-doc-link.fitted {\n",
              "  /* fitted */\n",
              "  border: var(--sklearn-color-fitted-level-1) 1pt solid;\n",
              "  color: var(--sklearn-color-fitted-level-1);\n",
              "}\n",
              "\n",
              "/* On hover */\n",
              "div.sk-estimator:hover .sk-estimator-doc-link:hover,\n",
              ".sk-estimator-doc-link:hover,\n",
              "div.sk-label-container:hover .sk-estimator-doc-link:hover,\n",
              ".sk-estimator-doc-link:hover {\n",
              "  /* unfitted */\n",
              "  background-color: var(--sklearn-color-unfitted-level-3);\n",
              "  color: var(--sklearn-color-background);\n",
              "  text-decoration: none;\n",
              "}\n",
              "\n",
              "div.sk-estimator.fitted:hover .sk-estimator-doc-link.fitted:hover,\n",
              ".sk-estimator-doc-link.fitted:hover,\n",
              "div.sk-label-container:hover .sk-estimator-doc-link.fitted:hover,\n",
              ".sk-estimator-doc-link.fitted:hover {\n",
              "  /* fitted */\n",
              "  background-color: var(--sklearn-color-fitted-level-3);\n",
              "  color: var(--sklearn-color-background);\n",
              "  text-decoration: none;\n",
              "}\n",
              "\n",
              "/* Span, style for the box shown on hovering the info icon */\n",
              ".sk-estimator-doc-link span {\n",
              "  display: none;\n",
              "  z-index: 9999;\n",
              "  position: relative;\n",
              "  font-weight: normal;\n",
              "  right: .2ex;\n",
              "  padding: .5ex;\n",
              "  margin: .5ex;\n",
              "  width: min-content;\n",
              "  min-width: 20ex;\n",
              "  max-width: 50ex;\n",
              "  color: var(--sklearn-color-text);\n",
              "  box-shadow: 2pt 2pt 4pt #999;\n",
              "  /* unfitted */\n",
              "  background: var(--sklearn-color-unfitted-level-0);\n",
              "  border: .5pt solid var(--sklearn-color-unfitted-level-3);\n",
              "}\n",
              "\n",
              ".sk-estimator-doc-link.fitted span {\n",
              "  /* fitted */\n",
              "  background: var(--sklearn-color-fitted-level-0);\n",
              "  border: var(--sklearn-color-fitted-level-3);\n",
              "}\n",
              "\n",
              ".sk-estimator-doc-link:hover span {\n",
              "  display: block;\n",
              "}\n",
              "\n",
              "/* \"?\"-specific style due to the `<a>` HTML tag */\n",
              "\n",
              "#sk-container-id-3 a.estimator_doc_link {\n",
              "  float: right;\n",
              "  font-size: 1rem;\n",
              "  line-height: 1em;\n",
              "  font-family: monospace;\n",
              "  background-color: var(--sklearn-color-background);\n",
              "  border-radius: 1rem;\n",
              "  height: 1rem;\n",
              "  width: 1rem;\n",
              "  text-decoration: none;\n",
              "  /* unfitted */\n",
              "  color: var(--sklearn-color-unfitted-level-1);\n",
              "  border: var(--sklearn-color-unfitted-level-1) 1pt solid;\n",
              "}\n",
              "\n",
              "#sk-container-id-3 a.estimator_doc_link.fitted {\n",
              "  /* fitted */\n",
              "  border: var(--sklearn-color-fitted-level-1) 1pt solid;\n",
              "  color: var(--sklearn-color-fitted-level-1);\n",
              "}\n",
              "\n",
              "/* On hover */\n",
              "#sk-container-id-3 a.estimator_doc_link:hover {\n",
              "  /* unfitted */\n",
              "  background-color: var(--sklearn-color-unfitted-level-3);\n",
              "  color: var(--sklearn-color-background);\n",
              "  text-decoration: none;\n",
              "}\n",
              "\n",
              "#sk-container-id-3 a.estimator_doc_link.fitted:hover {\n",
              "  /* fitted */\n",
              "  background-color: var(--sklearn-color-fitted-level-3);\n",
              "}\n",
              "</style><div id=\"sk-container-id-3\" class=\"sk-top-container\"><div class=\"sk-text-repr-fallback\"><pre>RandomForestClassifier()</pre><b>In a Jupyter environment, please rerun this cell to show the HTML representation or trust the notebook. <br />On GitHub, the HTML representation is unable to render, please try loading this page with nbviewer.org.</b></div><div class=\"sk-container\" hidden><div class=\"sk-item\"><div class=\"sk-estimator fitted sk-toggleable\"><input class=\"sk-toggleable__control sk-hidden--visually\" id=\"sk-estimator-id-3\" type=\"checkbox\" checked><label for=\"sk-estimator-id-3\" class=\"sk-toggleable__label fitted sk-toggleable__label-arrow\"><div><div>RandomForestClassifier</div></div><div><a class=\"sk-estimator-doc-link fitted\" rel=\"noreferrer\" target=\"_blank\" href=\"https://scikit-learn.org/1.6/modules/generated/sklearn.ensemble.RandomForestClassifier.html\">?<span>Documentation for RandomForestClassifier</span></a><span class=\"sk-estimator-doc-link fitted\">i<span>Fitted</span></span></div></label><div class=\"sk-toggleable__content fitted\"><pre>RandomForestClassifier()</pre></div> </div></div></div></div>"
            ]
          },
          "metadata": {},
          "execution_count": 25
        }
      ],
      "source": [
        "#Fitting the data to a model\n",
        "classifier = RandomForestClassifier(n_estimators=100)\n",
        "classifier.fit(x_train_bow,y_train)"
      ]
    },
    {
      "cell_type": "code",
      "execution_count": 26,
      "metadata": {
        "id": "XpyschIGoBVM"
      },
      "outputs": [],
      "source": [
        "#Prediction and Checking accuracy\n",
        "y_pred_bow = classifier.predict(x_test_bow)"
      ]
    },
    {
      "cell_type": "code",
      "execution_count": 27,
      "metadata": {
        "colab": {
          "base_uri": "https://localhost:8080/"
        },
        "id": "IvJzHTohoBVM",
        "outputId": "caf266cf-2723-45c2-b6cf-482358c56f41"
      },
      "outputs": [
        {
          "output_type": "execute_result",
          "data": {
            "text/plain": [
              "0.8737373737373737"
            ]
          },
          "metadata": {},
          "execution_count": 27
        }
      ],
      "source": [
        "accuracy_score(y_pred_bow,y_test)"
      ]
    },
    {
      "cell_type": "markdown",
      "metadata": {
        "id": "RkCAwJzKoBVP"
      },
      "source": [
        "# TF-IDF Model"
      ]
    },
    {
      "cell_type": "markdown",
      "metadata": {
        "id": "yMDdCNFboBVV"
      },
      "source": [
        "# Creating Word 2 Vec Model"
      ]
    },
    {
      "cell_type": "code",
      "execution_count": 32,
      "metadata": {
        "id": "pOO0cnMnoBVV"
      },
      "outputs": [],
      "source": [
        "x = data['tweet'].apply(lambda x: simple_preprocess(x))\n",
        "y = data['label']"
      ]
    },
    {
      "cell_type": "code",
      "execution_count": 33,
      "metadata": {
        "colab": {
          "base_uri": "https://localhost:8080/"
        },
        "id": "Id9j4eILoBVV",
        "outputId": "b96568a7-c330-46fc-aba0-0486e78ccd5f"
      },
      "outputs": [
        {
          "output_type": "stream",
          "name": "stdout",
          "text": [
            "id\n",
            "1                 [fingerprint, pregnancy, test, https, goo, gl, mfqv, android, apps, beautiful, cute, health, igers, iphoneonly, iphonesia, iphone]\n",
            "2                  [finally, transparant, silicon, case, thanks, to, my, uncle, yay, sony, xperia, sonyexperias, http, instagram, com, yget, jc, jm]\n",
            "3                       [we, love, this, would, you, go, talk, makememories, unplug, relax, iphone, smartphone, wifi, connect, http, fb, me, lsupcu]\n",
            "4                                                  [wired, know, george, was, made, that, way, iphone, cute, daventry, home, http, instagr, am, li_]\n",
            "5                    [what, amazing, service, apple, won, even, talk, to, me, about, question, have, unless, pay, them, for, their, stupid, support]\n",
            "                                                                            ...                                                                     \n",
            "7916                                    [live, out, loud, lol, liveoutloud, selfie, smile, sony, music, headphones, https, instagram, com, spinsj_c]\n",
            "7917       [we, would, like, to, wish, you, an, amazing, day, make, every, minute, count, tls, today, iphone, accessories, news, life, february, at]\n",
            "7918    [helping, my, lovely, year, old, neighbor, with, her, ipad, this, morning, has, just, made, me, realise, that, don, actually, need, an, pad]\n",
            "7919               [finally, got, my, smart, pocket, wifi, stay, connected, anytime, anywhere, ipad, and, samsung, gadget, http, instagr, am, g_vju]\n",
            "7920                  [apple, barcelona, apple, store, bcn, barcelona, travel, iphone, selfie, fly, fun, cabincrew, http, instagram, com, wbapvzpcl]\n",
            "Name: tweet, Length: 7920, dtype: object\n"
          ]
        }
      ],
      "source": [
        "print(x)"
      ]
    },
    {
      "cell_type": "markdown",
      "metadata": {
        "id": "y2mMGQr1oBVW"
      },
      "source": [
        "###"
      ]
    },
    {
      "cell_type": "code",
      "execution_count": 34,
      "metadata": {
        "id": "QSbyCJeFoBVW"
      },
      "outputs": [],
      "source": [
        "#Applying W2V\n",
        "w2v = Word2Vec(x, min_count=1)"
      ]
    },
    {
      "cell_type": "code",
      "execution_count": 35,
      "metadata": {
        "colab": {
          "base_uri": "https://localhost:8080/"
        },
        "id": "3GINBFHToBVW",
        "outputId": "e6b371fe-6947-4c5b-87bb-71b664b5c25a"
      },
      "outputs": [
        {
          "output_type": "stream",
          "name": "stdout",
          "text": [
            "iphone [-0.7075126   1.0667526   0.10219511  0.4134753   0.3291784  -1.167353\n",
            "  0.8406994   3.0289958  -0.9716496  -1.1035286  -0.38628516 -1.7293599\n",
            " -0.04680045  0.5034943   0.6019397  -0.39447215  0.5862596  -0.5541796\n",
            " -0.75063515 -2.478635    0.6518495   0.26246414  0.4430258  -1.1248001\n",
            " -0.33226871 -0.32045987 -1.0563687  -1.0577935  -0.13691929  0.4438361\n",
            "  1.2842072  -0.5773317   0.79315263 -1.6264483  -0.45915672  1.1814289\n",
            " -0.05243497 -0.3533681  -0.4255706  -2.0459247  -0.22642562 -0.7329858\n",
            "  0.02673694  0.667948    0.22948372 -0.02875256 -0.904885   -0.01707415\n",
            "  0.5502244   1.1634775   0.40261093 -1.087774   -0.5879634  -0.0483977\n",
            " -0.32172078  0.08655506  0.7757845  -0.23647998 -0.46207592  0.6690599\n",
            "  0.7053063   0.76335526 -0.13626605  0.11113198 -1.5644227   1.2943697\n",
            "  0.16713907  1.1242101  -1.027551    0.92003435 -0.46760184  0.8338782\n",
            "  1.3053452  -0.45496446  1.3331914  -0.20583268  0.33388707  0.45990157\n",
            " -0.7161988   0.1654799  -1.1178607   0.14314234 -0.96328455  0.9960661\n",
            " -0.261643   -0.15673147  0.7211611   0.6396285   0.9780328   0.37573537\n",
            "  0.7845622   0.80015993  0.25133908  0.361599    2.4021857   0.98649013\n",
            " -0.1134441  -1.2578307   0.02964246  0.16926418]\n",
            "http [-0.7685693   1.2966106   0.43506467  1.0347421   0.9699299  -1.0772108\n",
            "  0.78204626  3.1828997  -2.0256076  -0.6086861  -0.64298785 -2.3432865\n",
            " -0.25996637  0.828248    0.8170386  -0.7172697   1.2048005  -0.86590576\n",
            " -2.3219748  -3.044377   -0.12494311  0.6618163   1.2348068  -1.4041647\n",
            " -0.15811273 -0.616431   -1.3705871  -1.2599293   0.07966249  1.1567234\n",
            "  2.3067245  -1.8505298   0.73466283 -2.176998   -0.4397002   1.5435014\n",
            "  0.5013806  -0.6373151  -0.2434523  -3.051763   -0.11854574 -1.0743378\n",
            " -0.99885     2.0253828   0.02859855  0.66791445 -0.8005044  -0.18024178\n",
            "  1.0780433   1.3240093   1.1096158  -2.4576726  -0.7610108   0.08956242\n",
            " -0.69940805  0.52173334  1.2401491   0.23754753 -1.2059455   0.60573906\n",
            "  0.10136952  1.4880185  -0.12541822 -0.02710937 -1.9150345   2.39699\n",
            "  0.13662514  1.729185   -1.6312559   1.0159901  -0.24253674  1.3598001\n",
            "  2.0806558  -0.1313636   1.0384387  -0.62346256  0.3012503   0.67207867\n",
            "  0.1305692  -0.18555741 -1.9057759  -0.4714553  -0.57244915  0.25332588\n",
            "  0.18265624 -0.864506    0.20358305 -0.11600644  1.5524654   0.84145856\n",
            "  1.0666604   1.2407173   0.21864034  0.08302093  2.4202538   1.2090596\n",
            " -0.10327696 -0.86396796 -0.7195661  -0.08523958]\n",
            "com [-1.0981554   0.83351386 -0.28159937  0.03356004  1.5242654  -0.9945281\n",
            "  0.282209    2.8363774  -2.2640047  -0.33140773 -0.90526    -2.498424\n",
            "  0.23379725  0.8524208   1.2107481  -1.4652747   1.0235401  -0.392153\n",
            " -2.2511086  -3.127685   -0.30331758  0.74991035  0.93618375 -1.0379758\n",
            "  0.5247358  -1.0001789  -0.7382452  -0.90081364 -0.57470095  0.32571214\n",
            "  1.972649   -1.7694623  -0.22949189 -1.8140622  -0.91179436  1.2439023\n",
            "  0.41398412 -0.07647348 -0.0945491  -3.2622335  -0.6139859  -1.436065\n",
            " -1.3592726   2.2996645   0.4094234   0.4068223  -1.3188157   0.08803807\n",
            "  1.0958412   1.287302    0.7498587  -2.3066456  -0.6353169  -0.20223384\n",
            " -1.2992994   0.25452495  1.1473463  -0.20838456 -1.6770893   0.43311843\n",
            "  0.83414567  0.7806318   1.2141576   0.28894523 -2.5152893   2.3036623\n",
            " -0.37470096  2.200102   -2.060231    1.473004    0.6824708   2.2046382\n",
            "  2.0150423   0.04636792  0.88176876  0.2821427   0.6268405   0.24873962\n",
            " -0.24696465 -0.09910112 -1.1902343  -1.093375   -1.1959782   0.64222765\n",
            "  0.36359    -0.9395507  -0.51647735  0.3041139   1.914992    1.2819626\n",
            "  0.8864873   2.0004556   1.2073241  -0.3647967   3.4836726   1.9179965\n",
            "  0.82237446 -1.2539285  -0.41683114 -0.9449994 ]\n",
            "apple [-0.71404946  0.7130014  -0.10854969 -0.16927594  0.09045143 -1.9101223\n",
            "  0.91128045  2.7276087  -0.9601741  -1.3412327  -0.17390075 -1.9473987\n",
            " -0.3120767   0.57390153  0.87105495 -0.45783168  0.42103717 -0.46722245\n",
            "  0.18304709 -2.4499667   0.7261924   0.2943923   0.9752256  -1.1080897\n",
            " -0.17694981 -0.16118951 -1.4655715  -0.47181806 -0.8017134  -0.3939674\n",
            "  1.2896695   0.2275688   0.82294476 -1.2430995  -0.5317792   1.382713\n",
            " -0.1166065  -0.6114663  -0.6193558  -2.0648396   0.22976042 -1.2396313\n",
            " -0.28481266  0.5194404   1.045162   -0.7385177  -1.3648727   0.05888706\n",
            "  0.7675525   1.3409469  -0.16659036 -1.2207122  -0.67753845 -0.3327979\n",
            " -0.5489534   0.8063059   0.28959152  0.04183708 -0.52761495  0.98847336\n",
            "  0.8765526   0.68865937  0.09511272  0.01539886 -1.697736    1.3836905\n",
            "  0.03540265  1.02774    -1.014558    1.3749281  -0.2587005   0.93582517\n",
            "  1.4126565   0.10282414  1.8188628   0.12855494  0.5814138  -0.33336905\n",
            " -0.850717    0.32890677 -0.6708406  -0.2764443  -1.1329691   2.1832683\n",
            " -0.10566693 -0.06893775  0.9940198   0.92749643  1.0815753   0.74467945\n",
            "  1.444383    0.7410621   0.32725146  0.43113685  1.9033834   0.5927945\n",
            "  0.6821186  -0.997394    0.4469242  -0.48034528]\n",
            "my [-0.6853182   0.6743458  -0.03141723 -0.4596749  -0.09424192 -2.1757088\n",
            "  1.306433    2.7371807  -0.38705504 -1.6720593  -0.21410677 -2.0788128\n",
            " -0.06244923  0.47916788  0.9694036  -0.32098654  0.29424828 -0.37069562\n",
            "  1.0299438  -2.8010657   1.3743874   0.47267455  1.1640607  -1.05072\n",
            " -0.02690115  0.15676698 -1.6418473  -0.34511557 -1.160988   -0.7310451\n",
            "  0.8226606   1.0297251   1.0864767  -0.98281074 -0.4708547   1.3653011\n",
            " -0.458859   -0.89197546 -0.7523549  -1.8951548   0.66341585 -1.3470098\n",
            " -0.20239681  0.14641516  1.4831276  -1.7715154  -1.2618146  -0.19364049\n",
            "  1.0731653   1.024429   -0.08943426 -1.0928962  -0.79712975 -0.67061174\n",
            " -0.2618337   0.8788025   0.06005388 -0.28361115 -0.12387945  1.2628069\n",
            "  0.52399135  0.5250574   0.08464814  0.2515807  -1.7765093   1.5350665\n",
            "  0.17028293  0.86981475 -1.344008    1.7231891  -0.50328654  0.7540736\n",
            "  1.5448853   0.30513078  1.9167035   0.3013913   0.73724914 -0.62574434\n",
            " -1.1898208   0.61773735 -0.49671185 -0.18455347 -0.7722084   3.252416\n",
            " -0.01569898  0.25244853  1.6226819   1.1072116   0.8688478   0.7580729\n",
            "  2.0175893   0.4032775   0.4357812   0.4145472   1.7071325   0.04768765\n",
            "  1.1541101  -0.7046884   0.92757726 -0.09128705]\n",
            "instagram [-1.0601625e+00  1.2264385e+00  1.4923343e-01  4.4524562e-01\n",
            "  1.0614594e+00 -1.2803668e+00  5.8663327e-01  3.0917971e+00\n",
            " -2.1338010e+00 -6.1769944e-01 -7.3870075e-01 -2.1322057e+00\n",
            " -2.8514242e-01  5.4083067e-01  8.2328117e-01 -1.3418698e+00\n",
            "  7.7505863e-01 -1.0491163e+00 -2.1542397e+00 -3.0098791e+00\n",
            " -2.9193911e-01  8.6996728e-01  1.1392798e+00 -5.8731359e-01\n",
            " -6.0760275e-02 -9.2960817e-01 -8.8399124e-01 -1.0955032e+00\n",
            " -1.2808967e-01  7.3514342e-01  1.8333845e+00 -1.9869612e+00\n",
            " -1.2167210e-03 -1.8700961e+00 -6.4890492e-01  1.5683419e+00\n",
            "  7.6152861e-01 -4.3052137e-01 -2.1347511e-01 -3.0896993e+00\n",
            " -3.6981216e-01 -1.5988083e+00 -1.3866235e+00  1.9837365e+00\n",
            "  1.0729325e-01  2.8922024e-01 -9.1672766e-01  3.7643257e-01\n",
            "  9.1288650e-01  1.1269611e+00  1.1442642e+00 -2.1957405e+00\n",
            " -4.9938664e-01  3.8205099e-01 -1.0648175e+00  4.0683010e-01\n",
            "  1.5245264e+00 -2.4018365e-01 -1.5323875e+00  4.7097031e-02\n",
            "  6.5915984e-01  1.0535134e+00  6.7334455e-01 -5.8891974e-02\n",
            " -1.9383398e+00  2.2324061e+00 -2.2989216e-01  2.3439670e+00\n",
            " -2.1205111e+00  7.4291235e-01  3.3232901e-01  2.0270398e+00\n",
            "  1.9591414e+00 -1.4265808e-01  8.6796176e-01  2.5312099e-01\n",
            " -1.6187450e-01  6.9087243e-01 -2.2170533e-01 -1.9334942e-01\n",
            " -1.0845230e+00 -4.1830641e-01 -6.0707599e-01  3.3537334e-01\n",
            "  3.2550481e-01 -8.8690096e-01 -6.2386405e-01  2.8990516e-01\n",
            "  1.4462422e+00  1.1072118e+00  1.3324368e+00  1.7528739e+00\n",
            "  3.0378941e-01 -8.5260540e-02  3.1336217e+00  1.4904777e+00\n",
            "  1.6752854e-01 -1.2242874e+00 -6.3305712e-01 -7.1889931e-01]\n",
            "the [-0.6748542   0.6813166  -0.1977973  -0.24738209 -0.14333539 -2.47815\n",
            "  1.3408031   2.7952194  -0.52488273 -1.6719043  -0.05651978 -2.046591\n",
            " -0.08343868  0.6272726   0.87705576 -0.118997    0.40961638 -0.45180866\n",
            "  1.2061633  -2.6087823   1.2051966   0.47735956  0.8993628  -1.1087754\n",
            "  0.04656946  0.27130038 -1.7413535  -0.21089686 -1.1763061  -0.7553015\n",
            "  1.0811282   1.0053836   0.94846183 -0.94997746 -0.5865559   1.6220183\n",
            " -0.27202863 -1.0325493  -0.8687103  -2.032265    0.6370304  -1.4765793\n",
            " -0.24152152  0.05060063  1.495414   -1.440528   -1.4128315  -0.04395215\n",
            "  0.8028193   1.0208838  -0.10034574 -1.0951898  -0.887724   -0.5137414\n",
            " -0.33523634  0.98178464  0.2252218  -0.09851113 -0.4142808   1.1359851\n",
            "  0.6042102   0.61489815 -0.07843949  0.17991808 -1.6364917   1.6122346\n",
            "  0.19087252  0.6932098  -1.1532574   1.7926056  -0.61829746  0.74029344\n",
            "  1.4137822   0.21644352  1.9942621   0.32325345  0.55742836 -0.5932081\n",
            " -1.2110847   0.60642713 -0.4704719  -0.09533317 -0.97369784  3.1670403\n",
            " -0.12414073  0.3911482   1.4970919   1.2383633   0.900168    0.82860076\n",
            "  2.029798    0.61494714  0.10381719  0.5744712   1.5198134  -0.07001442\n",
            "  0.99953896 -0.8527121   0.9803329  -0.19076753]\n",
            "to [-0.6984616   0.6949876  -0.10982499 -0.21667974 -0.17027831 -2.9507189\n",
            "  1.4028674   3.0087843  -0.39434522 -1.848972   -0.1446562  -2.2354212\n",
            "  0.05988981  0.6408923   0.93870443 -0.08607002  0.38962775 -0.5411264\n",
            "  1.563559   -2.821664    1.4018707   0.6157425   0.83487207 -1.2283394\n",
            "  0.22553378  0.4580506  -1.8544775  -0.09569322 -1.3810197  -0.86872315\n",
            "  1.0040634   1.1843361   0.952755   -0.94384736 -0.67885315  1.937425\n",
            " -0.26638007 -1.1650853  -1.0304669  -2.1005414   0.80636215 -1.8016465\n",
            " -0.33230376 -0.01194014  1.7012258  -1.6121866  -1.6220617   0.10679571\n",
            "  0.7413469   0.98354936 -0.02003878 -1.0030519  -0.9547201  -0.562159\n",
            " -0.3923601   1.240888    0.31993526 -0.04281568 -0.3845755   1.3011432\n",
            "  0.59742254  0.5189505  -0.09582219  0.23848453 -1.6491065   1.723375\n",
            "  0.2557658   0.79772955 -1.1918641   2.0536635  -0.80804044  0.82378125\n",
            "  1.4753276   0.26222283  2.0791755   0.6544944   0.5428591  -0.7469837\n",
            " -1.3983043   0.66618353 -0.42265812  0.10203678 -0.9505595   3.6176047\n",
            " -0.09528742  0.67262733  1.5498179   1.4675009   1.093891    0.9577451\n",
            "  2.387467    0.69127303  0.02677944  0.71320486  1.4065235  -0.18541996\n",
            "  1.0856488  -0.8610222   1.1259804  -0.23606302]\n",
            "samsung [-0.7489306   0.80249155  0.37491783 -0.13689847  0.78254735 -0.9323115\n",
            "  0.7770485   2.5954397  -1.5129621  -0.7483095  -0.7704159  -2.0858986\n",
            " -0.10367191  0.3053035   1.1951193  -1.156639    0.48559275 -0.47385687\n",
            " -1.6476166  -3.2062197   0.27712867  0.45749745  1.8487906  -1.3102136\n",
            " -0.20381762 -0.7189876  -1.0183104  -1.0857987  -0.39621726  0.1280156\n",
            "  1.1571136  -0.78220534  0.9221689  -1.3210241  -0.40968895  1.0080178\n",
            " -0.2396775  -0.30569297 -0.19636768 -2.624086    0.00335766 -0.9248791\n",
            " -0.5971738   1.6083891   0.4592749  -0.5026904  -0.88706154 -0.30631307\n",
            "  1.4485787   1.3439653   0.41002914 -1.8863554  -0.34619093 -0.43055144\n",
            " -0.8357975   0.3700045   0.5394468   0.01791715 -0.40976962  1.0343573\n",
            "  0.5130979   0.72340524  0.7021155   0.2003722  -2.14863     1.7429483\n",
            " -0.26251903  1.7467802  -1.9984365   0.8576958   0.02559434  1.5456313\n",
            "  2.1921463   0.3133208   1.1814194  -0.27002278  0.7969323   0.11743785\n",
            " -0.38576376  0.07815707 -1.1956326  -0.8451287  -0.622485    1.3845608\n",
            "  0.35462052 -0.69923246  0.6645784   0.13722263  1.5000021   0.93686277\n",
            "  1.0313935   0.8556733   1.0389597  -0.03828605  2.8751717   1.361283\n",
            "  0.78573066 -0.67481494 -0.15390073 -0.7304441 ]\n",
            "it [-0.6199046   0.61308    -0.15978676 -0.19039577 -0.1330948  -2.3058255\n",
            "  1.1255363   2.8797312  -0.48660424 -1.6107326  -0.11056732 -1.8802589\n",
            " -0.06295919  0.5955814   0.8942541  -0.0519637   0.28605157 -0.41315255\n",
            "  0.9979442  -2.5420816   1.0893916   0.29388565  0.74659044 -1.2987075\n",
            " -0.02537327  0.13471404 -1.7089819  -0.3389891  -0.9542494  -0.5786852\n",
            "  1.0610725   0.92821217  1.076366   -0.99156153 -0.6942314   1.5974499\n",
            " -0.3937071  -0.84220463 -0.76506805 -1.892844    0.62091583 -1.3554069\n",
            " -0.04735001  0.08466238  1.291835   -1.2392617  -1.3331237  -0.05712346\n",
            "  0.6799773   1.2082201  -0.15376756 -0.8997525  -0.7857527  -0.38972977\n",
            " -0.38211742  0.8831829   0.17029735 -0.00308528 -0.24705163  1.1711006\n",
            "  0.76855403  0.60691994 -0.09109455  0.10919942 -1.6429161   1.4034996\n",
            "  0.1951197   0.6087631  -0.97770685  1.6700948  -0.65828204  0.6711831\n",
            "  1.286297    0.09179929  1.9739639   0.1741247   0.53774345 -0.4913875\n",
            " -1.0660223   0.5550853  -0.5211011  -0.02256543 -1.0763919   2.9020123\n",
            " -0.1698204   0.41322562  1.3433393   1.28321     1.0851889   0.7142187\n",
            "  1.8050641   0.49082676  0.21845172  0.627353    1.5636647   0.14492258\n",
            "  0.75566524 -0.8980345   0.84161514 -0.16215892]\n"
          ]
        }
      ],
      "source": [
        "for i in range(10):\n",
        "    print(w2v.wv.index_to_key[i], w2v.wv[i])   #index to key returns the list of words corresponding to keys"
      ]
    },
    {
      "cell_type": "code",
      "execution_count": 36,
      "metadata": {
        "colab": {
          "base_uri": "https://localhost:8080/"
        },
        "id": "KaoCocKAoBVW",
        "outputId": "5eabcbe1-ea45-4b21-fec8-19a0046b706c"
      },
      "outputs": [
        {
          "output_type": "execute_result",
          "data": {
            "text/plain": [
              "(7920, 100)"
            ]
          },
          "metadata": {},
          "execution_count": 36
        }
      ],
      "source": [
        "\n",
        "words= w2v.wv.index_to_key\n",
        "x_w2v = np.array([np.array([w2v.wv[word] for word in doc if word in words]).mean(axis = 0) for doc in x])\n",
        "x_w2v.shape\n",
        "\n"
      ]
    },
    {
      "cell_type": "code",
      "execution_count": 37,
      "metadata": {
        "id": "IRF6uWPboBVW"
      },
      "outputs": [],
      "source": [
        "#Train test split\n",
        "x_train_w2v , x_test_w2v, y_train, y_test = train_test_split(x_w2v,y,test_size = 0.2, random_state = 42)"
      ]
    },
    {
      "cell_type": "code",
      "execution_count": 38,
      "metadata": {
        "id": "n1SDyChCoBVW"
      },
      "outputs": [],
      "source": [
        "#Model fitting and Prediction\n",
        "classifier.fit(x_train_w2v,y_train)\n",
        "y_pred = classifier.predict(x_test_w2v)"
      ]
    },
    {
      "cell_type": "code",
      "execution_count": 39,
      "metadata": {
        "colab": {
          "base_uri": "https://localhost:8080/"
        },
        "id": "GGvZlqPqoBVX",
        "outputId": "5eff599c-9f94-44f2-c644-fac47dbcc07f"
      },
      "outputs": [
        {
          "output_type": "execute_result",
          "data": {
            "text/plain": [
              "0.8667929292929293"
            ]
          },
          "metadata": {},
          "execution_count": 39
        }
      ],
      "source": [
        "accuracy_score(y_pred,y_test)"
      ]
    },
    {
      "cell_type": "code",
      "execution_count": 40,
      "metadata": {
        "id": "6H1mZeJeoBVP"
      },
      "outputs": [],
      "source": [
        "x_tfidf = TfidfVectorizer().fit_transform(data['preprocessed'])\n",
        "y = data['label']"
      ]
    },
    {
      "cell_type": "code",
      "execution_count": 41,
      "metadata": {
        "id": "3uFSZOP4oBVQ"
      },
      "outputs": [],
      "source": [
        "#Train test split\n",
        "x_train_tfidf , x_test_tfidf, y_train, y_test = train_test_split(x_tfidf,y,test_size = 0.2, random_state =42 )"
      ]
    },
    {
      "cell_type": "code",
      "execution_count": 42,
      "metadata": {
        "id": "lP1S-7OUoBVQ"
      },
      "outputs": [],
      "source": [
        "#Model fitting and prediction\n",
        "classifier.fit(x_train_tfidf,y_train)\n",
        "y_pred = classifier.predict(x_test_tfidf)"
      ]
    },
    {
      "cell_type": "code",
      "execution_count": 43,
      "metadata": {
        "colab": {
          "base_uri": "https://localhost:8080/"
        },
        "id": "xXztBKF4oBVQ",
        "outputId": "fe7315af-b438-4bad-aa83-bc24eb921596"
      },
      "outputs": [
        {
          "output_type": "execute_result",
          "data": {
            "text/plain": [
              "0.8693181818181818"
            ]
          },
          "metadata": {},
          "execution_count": 43
        }
      ],
      "source": [
        "accuracy_score(y_pred,y_test)"
      ]
    },
    {
      "cell_type": "code",
      "source": [
        ""
      ],
      "metadata": {
        "id": "y5vIzaRR_t7x"
      },
      "execution_count": null,
      "outputs": []
    }
  ]
}